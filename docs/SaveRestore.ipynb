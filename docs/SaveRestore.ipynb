{
 "cells": [
  {
   "cell_type": "code",
   "execution_count": 1,
   "metadata": {},
   "outputs": [],
   "source": [
    "import numpy as np\n",
    "import matplotlib.pyplot as plt\n",
    "%matplotlib inline"
   ]
  },
  {
   "cell_type": "code",
   "execution_count": 2,
   "metadata": {},
   "outputs": [
    {
     "name": "stderr",
     "output_type": "stream",
     "text": [
      "/Users/christophemorisset/anaconda3/lib/python3.7/site-packages/sklearn/externals/joblib/__init__.py:15: DeprecationWarning: sklearn.externals.joblib is deprecated in 0.21 and will be removed in 0.23. Please import this functionality directly from joblib, which can be installed with: pip install joblib. If this warning is raised when loading pickled models, you may need to re-serialize those models with scikit-learn 0.21+.\n",
      "  warnings.warn(msg, category=DeprecationWarning)\n",
      "Using TensorFlow backend.\n"
     ]
    }
   ],
   "source": [
    "try:\n",
    "    import ai4neb\n",
    "except:\n",
    "    !pip install -U git+https://github.com/morisset/AI4neb.git\n",
    "    import ai4neb"
   ]
  },
  {
   "cell_type": "code",
   "execution_count": 3,
   "metadata": {},
   "outputs": [],
   "source": [
    "def true_fun(x):\n",
    "    return np.cos(1.5 * np.pi * x)\n",
    "def true_fun2(x):\n",
    "    return np.sin(1.5 * np.pi * x)\n",
    "\n",
    "# A random seed to reproduce the results\n",
    "np.random.seed(0)\n",
    "\n",
    "# The number of points used to fit the function\n",
    "n_samples = 30\n",
    "\n",
    "# Noise to be added to the points used to fit the function\n",
    "noise = 0.1\n",
    "\n",
    "# The training set: n_samples X points, with the noisy correspoing y  \n",
    "X_train = np.random.rand(n_samples)\n",
    "y_train = true_fun(X_train) + np.random.randn(n_samples) * noise\n",
    "y_train2 = true_fun2(X_train) + np.random.randn(n_samples) * noise\n",
    "\n",
    "# The set of points to verify the fit quality\n",
    "X_test = np.linspace(0, 1, 100)\n",
    "y_test = true_fun(X_test)\n",
    "y_test2 = true_fun2(X_test)\n"
   ]
  },
  {
   "cell_type": "code",
   "execution_count": 4,
   "metadata": {},
   "outputs": [
    {
     "name": "stdout",
     "output_type": "stream",
     "text": [
      "Instantiation. V 0.17\n",
      "Training set size = 30, Test set size = 100\n",
      "Train data scaled. \n",
      "Test data scaled. \n",
      "Training set size = 30, Test set size = 100\n",
      "Training set size = 30, Test set size = 100\n",
      "Regression Model SK_ANN\n",
      "Training 1 inputs for 1 outputs with 30 data\n",
      "RM trained, with 100 iterations. Score = 0.951\n",
      "MLPRegressor(activation='tanh', alpha=0.0001, batch_size='auto', beta_1=0.9,\n",
      "             beta_2=0.999, early_stopping=False, epsilon=1e-08,\n",
      "             hidden_layer_sizes=(100, 100), learning_rate='constant',\n",
      "             learning_rate_init=0.001, max_iter=100, momentum=0.9,\n",
      "             n_iter_no_change=10, nesterovs_momentum=True, power_t=0.5,\n",
      "             random_state=10, shuffle=True, solver='adam', tol=1e-06,\n",
      "             validation_fraction=0.1, verbose=False, warm_start=False)\n",
      "Training time 0.1 s.\n",
      "Score = 0.973\n",
      "Predicting from 1 inputs to 1 outputs using 100 data in 0.00 secs.\n"
     ]
    },
    {
     "name": "stderr",
     "output_type": "stream",
     "text": [
      "/Users/christophemorisset/anaconda3/lib/python3.7/site-packages/sklearn/neural_network/multilayer_perceptron.py:566: ConvergenceWarning: Stochastic Optimizer: Maximum iterations (100) reached and the optimization hasn't converged yet.\n",
      "  % self.max_iter, ConvergenceWarning)\n"
     ]
    }
   ],
   "source": [
    "RM = ai4neb.manage_RM(RM_type='SK_ANN', X_train=X_train, y_train=y_train, scaling=True, use_log=False,\n",
    "                      X_test = X_test, y_test=y_test, verbose=True, random_seed=10)\n",
    "RM.init_RM(hidden_layer_sizes=(100,100), \n",
    "           tol=1e-6, max_iter=100, \n",
    "           activation='tanh',\n",
    "           solver='adam')\n",
    "RM.train_RM()\n",
    "RM.predict()"
   ]
  },
  {
   "cell_type": "code",
   "execution_count": 5,
   "metadata": {},
   "outputs": [
    {
     "data": {
      "image/png": "[encoded data removed]",
      "text/plain": [
       "<Figure size 432x288 with 1 Axes>"
      ]
     },
     "metadata": {
      "needs_background": "light"
     },
     "output_type": "display_data"
    }
   ],
   "source": [
    "plt.scatter(X_train, y_train)\n",
    "plt.scatter(RM.X_test_unscaled, RM.pred);"
   ]
  },
  {
   "cell_type": "code",
   "execution_count": 6,
   "metadata": {},
   "outputs": [
    {
     "name": "stdout",
     "output_type": "stream",
     "text": [
      "RM save to RM1.mwinai_sk\n",
      "Instantiation. V 0.17\n",
      "Training set size = 0, Test set size = 0\n",
      "RM loaded from RM1.mwinai_sk\n",
      "Train data scaled. \n",
      "Test data scaled. \n",
      "Training set size = 30, Test set size = 100\n",
      "Training set size = 30, Test set size = 100\n"
     ]
    }
   ],
   "source": [
    "RM.save_RM('RM1', save_train=True, save_test=True)\n",
    "RM_back = ai4neb.manage_RM(RM_filename='RM1', verbose=True)\n",
    "\"\"\"\n",
    "print(RM.X_train[0:5]/ RM_back.X_train[0:5])\n",
    "print(RM.y_train[0:5]/ RM_back.y_train[0:5])\n",
    "print(RM.X_test[0:5]/ RM_back.X_test[0:5])\n",
    "print(RM.y_test[0:5]/ RM_back.y_test[0:5])\n",
    "print(RM.X_train_unscaled[0:5]/ RM_back.X_train_unscaled[0:5])\n",
    "print(RM.y_train_unscaled[0:5]/ RM_back.y_train_unscaled[0:5])\n",
    "print(RM.X_test_unscaled[0:5]/ RM_back.X_test_unscaled[0:5])\n",
    "\"\"\";"
   ]
  },
  {
   "cell_type": "code",
   "execution_count": 7,
   "metadata": {},
   "outputs": [
    {
     "name": "stdout",
     "output_type": "stream",
     "text": [
      "Predicting from 1 inputs to 1 outputs using 100 data in 0.00 secs.\n"
     ]
    },
    {
     "data": {
      "image/png": "[encoded data removed]",
      "text/plain": [
       "<Figure size 432x288 with 1 Axes>"
      ]
     },
     "metadata": {
      "needs_background": "light"
     },
     "output_type": "display_data"
    }
   ],
   "source": [
    "#RM_back.set_test(X_test)\n",
    "RM_back.predict(scoring=False)\n",
    "plt.scatter(X_train, y_train)\n",
    "plt.scatter(RM_back.X_test_unscaled, RM_back.pred);"
   ]
  },
  {
   "cell_type": "code",
   "execution_count": 8,
   "metadata": {},
   "outputs": [
    {
     "name": "stdout",
     "output_type": "stream",
     "text": [
      "Instantiation. V 0.17\n",
      "Training set size = 30, Test set size = 100\n",
      "Train data scaled. \n",
      "Test data scaled. \n",
      "Training set size = 30, Test set size = 100\n",
      "Training set size = 30, Test set size = 100\n",
      "Regression Model SK_ANN\n",
      "Training 1 inputs for 2 outputs with 30 data\n",
      "RM trained, with 100 iterations. Score = 0.937\n",
      "MLPRegressor(activation='tanh', alpha=0.0001, batch_size='auto', beta_1=0.9,\n",
      "             beta_2=0.999, early_stopping=False, epsilon=1e-08,\n",
      "             hidden_layer_sizes=(100, 100), learning_rate='constant',\n",
      "             learning_rate_init=0.001, max_iter=100, momentum=0.9,\n",
      "             n_iter_no_change=10, nesterovs_momentum=True, power_t=0.5,\n",
      "             random_state=10, shuffle=True, solver='adam', tol=1e-06,\n",
      "             validation_fraction=0.1, verbose=False, warm_start=False)\n",
      "Training time 0.1 s.\n",
      "Score = 0.936\n",
      "Predicting from 1 inputs to 2 outputs using 100 data in 0.00 secs.\n"
     ]
    },
    {
     "name": "stderr",
     "output_type": "stream",
     "text": [
      "/Users/christophemorisset/anaconda3/lib/python3.7/site-packages/sklearn/neural_network/multilayer_perceptron.py:566: ConvergenceWarning: Stochastic Optimizer: Maximum iterations (100) reached and the optimization hasn't converged yet.\n",
      "  % self.max_iter, ConvergenceWarning)\n",
      "/Users/christophemorisset/anaconda3/lib/python3.7/site-packages/sklearn/base.py:420: FutureWarning: The default value of multioutput (not exposed in score method) will change from 'variance_weighted' to 'uniform_average' in 0.23 to keep consistent with 'metrics.r2_score'. To specify the default value manually and avoid the warning, please either call 'metrics.r2_score' directly or make a custom scorer with 'metrics.make_scorer' (the built-in scorer 'r2' uses multioutput='uniform_average').\n",
      "  \"multioutput='uniform_average').\", FutureWarning)\n",
      "/Users/christophemorisset/anaconda3/lib/python3.7/site-packages/sklearn/base.py:420: FutureWarning: The default value of multioutput (not exposed in score method) will change from 'variance_weighted' to 'uniform_average' in 0.23 to keep consistent with 'metrics.r2_score'. To specify the default value manually and avoid the warning, please either call 'metrics.r2_score' directly or make a custom scorer with 'metrics.make_scorer' (the built-in scorer 'r2' uses multioutput='uniform_average').\n",
      "  \"multioutput='uniform_average').\", FutureWarning)\n"
     ]
    }
   ],
   "source": [
    "RM = ai4neb.manage_RM(RM_type='SK_ANN', X_train=X_train, y_train=np.array([y_train, y_train2]).T, scaling=True,\n",
    "                      X_test = X_test, y_test=np.array([y_test, y_test2]).T, verbose=True, random_seed=10)\n",
    "RM.init_RM(hidden_layer_sizes=(100,100), \n",
    "           tol=1e-6, max_iter=100, \n",
    "           activation='tanh',\n",
    "           solver='adam')\n",
    "RM.train_RM()\n",
    "RM.predict(scoring=True)"
   ]
  },
  {
   "cell_type": "code",
   "execution_count": 9,
   "metadata": {},
   "outputs": [
    {
     "data": {
      "image/png": "[encoded data removed]",
      "text/plain": [
       "<Figure size 432x288 with 1 Axes>"
      ]
     },
     "metadata": {
      "needs_background": "light"
     },
     "output_type": "display_data"
    }
   ],
   "source": [
    "plt.scatter(X_train, y_train)\n",
    "plt.scatter(RM.X_test_unscaled, RM.pred[:,0])\n",
    "plt.scatter(X_train, y_train2)\n",
    "plt.scatter(RM.X_test_unscaled, RM.pred[:,1]);"
   ]
  },
  {
   "cell_type": "code",
   "execution_count": 10,
   "metadata": {},
   "outputs": [
    {
     "name": "stdout",
     "output_type": "stream",
     "text": [
      "RM save to RM2.mwinai_sk\n"
     ]
    },
    {
     "data": {
      "image/png": "[encoded data removed]",
      "text/plain": [
       "<Figure size 432x288 with 1 Axes>"
      ]
     },
     "metadata": {
      "needs_background": "light"
     },
     "output_type": "display_data"
    }
   ],
   "source": [
    "RM.save_RM('RM2')\n",
    "RM_back2 = ai4neb.manage_RM(RM_filename='RM2')\n",
    "RM_back2.set_test(X_test)\n",
    "RM_back2.predict(scoring=False)\n",
    "plt.scatter(X_train, y_train)\n",
    "plt.scatter(RM_back2.X_test_unscaled, RM_back2.pred[:,0])\n",
    "plt.scatter(X_train, y_train2)\n",
    "plt.scatter(RM_back2.X_test_unscaled, RM_back2.pred[:,1]);"
   ]
  },
  {
   "cell_type": "code",
   "execution_count": 11,
   "metadata": {},
   "outputs": [
    {
     "name": "stdout",
     "output_type": "stream",
     "text": [
      "Instantiation. V 0.17\n",
      "Training set size = 30, Test set size = 100\n",
      "Train data scaled. \n",
      "Test data scaled. \n",
      "Training set size = 30, Test set size = 100\n",
      "Training set size = 30, Test set size = 100\n",
      "WARNING:tensorflow:From /Users/christophemorisset/anaconda3/lib/python3.7/site-packages/tensorflow/python/ops/resource_variable_ops.py:435: colocate_with (from tensorflow.python.framework.ops) is deprecated and will be removed in a future version.\n",
      "Instructions for updating:\n",
      "Colocations handled automatically by placer.\n",
      "Model: \"sequential_1\"\n",
      "_________________________________________________________________\n",
      "Layer (type)                 Output Shape              Param #   \n",
      "=================================================================\n",
      "dense_1 (Dense)              (None, 100)               200       \n",
      "_________________________________________________________________\n",
      "dense_2 (Dense)              (None, 100)               10100     \n",
      "_________________________________________________________________\n",
      "dense_3 (Dense)              (None, 1)                 101       \n",
      "=================================================================\n",
      "Total params: 10,401\n",
      "Trainable params: 10,401\n",
      "Non-trainable params: 0\n",
      "_________________________________________________________________\n",
      "Regression Model K_ANN\n",
      "Training 1 inputs for 1 outputs with 30 data\n",
      "WARNING:tensorflow:From /Users/christophemorisset/anaconda3/lib/python3.7/site-packages/tensorflow/python/ops/math_ops.py:3066: to_int32 (from tensorflow.python.ops.math_ops) is deprecated and will be removed in a future version.\n",
      "Instructions for updating:\n",
      "Use tf.cast instead.\n",
      "RM trained. Score = nan\n",
      "<keras.engine.sequential.Sequential object at 0x1a436e39e8>\n",
      "Training time 1.3 s.\n",
      "Predicting from 1 inputs to 1 outputs using 100 data in 0.06 secs.\n"
     ]
    }
   ],
   "source": [
    "RM = ai4neb.manage_RM(RM_type='K_ANN', X_train=X_train, y_train=y_train, scaling=True,\n",
    "                      X_test = X_test, y_test=y_test, verbose=True, random_seed=10)\n",
    "RM.init_RM(hidden_layer_sizes=(100,100), \n",
    "           tol=1e-6, epochs=100, \n",
    "           activation='tanh',\n",
    "           solver='adam')\n",
    "RM.train_RM()\n",
    "RM.predict(scoring=False)"
   ]
  },
  {
   "cell_type": "code",
   "execution_count": 12,
   "metadata": {},
   "outputs": [
    {
     "data": {
      "image/png": "[encoded data removed]",
      "text/plain": [
       "<Figure size 432x288 with 1 Axes>"
      ]
     },
     "metadata": {
      "needs_background": "light"
     },
     "output_type": "display_data"
    }
   ],
   "source": [
    "plt.scatter(X_train, y_train)\n",
    "plt.scatter(RM.X_test_unscaled, RM.pred);"
   ]
  },
  {
   "cell_type": "code",
   "execution_count": 13,
   "metadata": {},
   "outputs": [
    {
     "name": "stdout",
     "output_type": "stream",
     "text": [
      "RM save to RM3.mwinai_k0\n",
      "RM save to RM3.mwinai_k1\n",
      "Instantiation. V 0.17\n",
      "Training set size = 0, Test set size = 0\n",
      "RM loaded from RM3.mwinai_k0\n",
      "RM loaded from RM3.mwinai_k1\n",
      "Train data scaled. \n",
      "Test data scaled. \n",
      "Training set size = 30, Test set size = 100\n",
      "Training set size = 30, Test set size = 100\n",
      "Test data scaled. \n",
      "Training set size = 30, Test set size = 100\n",
      "Predicting from 1 inputs to 1 outputs using 100 data in 0.07 secs.\n"
     ]
    },
    {
     "data": {
      "image/png": "[encoded data removed]",
      "text/plain": [
       "<Figure size 432x288 with 1 Axes>"
      ]
     },
     "metadata": {
      "needs_background": "light"
     },
     "output_type": "display_data"
    }
   ],
   "source": [
    "RM.save_RM('RM3')\n",
    "RM_back3 = ai4neb.manage_RM(RM_filename='RM3', verbose=True)\n",
    "RM_back3.set_test(X_test)\n",
    "RM_back3.predict(scoring=False)\n",
    "plt.scatter(X_train, y_train)\n",
    "plt.scatter(RM_back3.X_test_unscaled, RM_back3.pred);"
   ]
  },
  {
   "cell_type": "code",
   "execution_count": 14,
   "metadata": {},
   "outputs": [
    {
     "name": "stdout",
     "output_type": "stream",
     "text": [
      "Instantiation. V 0.17\n",
      "Training set size = 30, Test set size = 100\n",
      "Train data scaled. \n",
      "Test data scaled. \n",
      "Training set size = 30, Test set size = 100\n",
      "Training set size = 30, Test set size = 100\n",
      "Model: \"sequential_2\"\n",
      "_________________________________________________________________\n",
      "Layer (type)                 Output Shape              Param #   \n",
      "=================================================================\n",
      "dense_4 (Dense)              (None, 100)               200       \n",
      "_________________________________________________________________\n",
      "dense_5 (Dense)              (None, 100)               10100     \n",
      "_________________________________________________________________\n",
      "dense_6 (Dense)              (None, 2)                 202       \n",
      "=================================================================\n",
      "Total params: 10,502\n",
      "Trainable params: 10,502\n",
      "Non-trainable params: 0\n",
      "_________________________________________________________________\n",
      "Regression Model K_ANN\n",
      "Training 1 inputs for 2 outputs with 30 data\n",
      "RM trained. Score = nan\n",
      "<keras.engine.sequential.Sequential object at 0x1a4b086b38>\n",
      "Training time 1.5 s.\n",
      "Predicting from 1 inputs to 2 outputs using 100 data in 0.13 secs.\n"
     ]
    }
   ],
   "source": [
    "RM = ai4neb.manage_RM(RM_type='K_ANN', X_train=X_train, y_train=np.array([y_train, y_train2]).T, scaling=True,\n",
    "                      X_test = X_test, y_test=np.array([y_test, y_test2]).T, verbose=True, random_seed=10)\n",
    "RM.init_RM(hidden_layer_sizes=(100,100), \n",
    "           tol=1e-6, epochs=100, \n",
    "           activation='tanh',\n",
    "           solver='adam')\n",
    "RM.train_RM()\n",
    "RM.predict(scoring=False)"
   ]
  },
  {
   "cell_type": "code",
   "execution_count": 15,
   "metadata": {},
   "outputs": [
    {
     "data": {
      "image/png": "[encoded data removed]",
      "text/plain": [
       "<Figure size 432x288 with 1 Axes>"
      ]
     },
     "metadata": {
      "needs_background": "light"
     },
     "output_type": "display_data"
    }
   ],
   "source": [
    "plt.scatter(X_train, y_train)\n",
    "plt.scatter(RM.X_test_unscaled, RM.pred[:,0])\n",
    "plt.scatter(X_train, y_train2)\n",
    "plt.scatter(RM.X_test_unscaled, RM.pred[:,1]);"
   ]
  },
  {
   "cell_type": "code",
   "execution_count": 16,
   "metadata": {},
   "outputs": [
    {
     "name": "stdout",
     "output_type": "stream",
     "text": [
      "RM save to RM4.mwinai_k0\n",
      "RM save to RM4.mwinai_k1\n"
     ]
    },
    {
     "data": {
      "image/png": "[encoded data removed]",
      "text/plain": [
       "<Figure size 432x288 with 1 Axes>"
      ]
     },
     "metadata": {
      "needs_background": "light"
     },
     "output_type": "display_data"
    }
   ],
   "source": [
    "RM.save_RM('RM4')\n",
    "RM_back4 = ai4neb.manage_RM(RM_filename='RM4')\n",
    "RM_back4.set_test(X_test)\n",
    "RM_back4.predict(scoring=False)\n",
    "plt.scatter(X_train, y_train)\n",
    "plt.scatter(RM_back4.X_test_unscaled, RM_back4.pred[:,0])\n",
    "plt.scatter(X_train, y_train2)\n",
    "plt.scatter(RM_back4.X_test_unscaled, RM_back4.pred[:,1]);"
   ]
  },
  {
   "cell_type": "code",
   "execution_count": 17,
   "metadata": {},
   "outputs": [
    {
     "name": "stdout",
     "output_type": "stream",
     "text": [
      "-rw-------  1 christophemorisset  staff   3.9K Sep 29 15:18 RM1.mwinai_k0\n",
      "-rw-------  1 christophemorisset  staff   150K Sep 29 15:18 RM1.mwinai_k1\n",
      "-rw-------  1 christophemorisset  staff   335K Sep 29 16:00 RM1.mwinai_sk\n",
      "-rw-------  1 christophemorisset  staff   336K Sep 29 16:00 RM2.mwinai_sk\n",
      "-rw-------  1 christophemorisset  staff   685B Sep 29 16:00 RM3.mwinai_k0\n",
      "-rw-------  1 christophemorisset  staff   149K Sep 29 16:00 RM3.mwinai_k1\n",
      "-rw-------  1 christophemorisset  staff   685B Sep 29 16:00 RM4.mwinai_k0\n",
      "-rw-------  1 christophemorisset  staff   150K Sep 29 16:00 RM4.mwinai_k1\n"
     ]
    }
   ],
   "source": [
    "!ls -lh RM*"
   ]
  },
  {
   "cell_type": "code",
   "execution_count": null,
   "metadata": {},
   "outputs": [],
   "source": []
  }
 ],
 "metadata": {
  "kernelspec": {
   "display_name": "Python 3",
   "language": "python",
   "name": "python3"
  },
  "language_info": {
   "codemirror_mode": {
    "name": "ipython",
    "version": 3
   },
   "file_extension": ".py",
   "mimetype": "text/x-python",
   "name": "python",
   "nbconvert_exporter": "python",
   "pygments_lexer": "ipython3",
   "version": "3.7.6"
  }
 },
 "nbformat": 4,
 "nbformat_minor": 4
}
